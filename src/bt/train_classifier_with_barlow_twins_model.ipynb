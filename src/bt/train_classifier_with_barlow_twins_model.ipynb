{
 "cells": [
  {
   "cell_type": "code",
   "execution_count": 1,
   "id": "c0abe132",
   "metadata": {},
   "outputs": [],
   "source": [
    "import sys  \n",
    "sys.path.insert(0, '/home/m.caros/work/objectDetection/src/model')\n",
    "from pointnet import ClassificationPointNet\n"
   ]
  },
  {
   "cell_type": "code",
   "execution_count": 2,
   "id": "0104cd70",
   "metadata": {},
   "outputs": [],
   "source": [
    "sys.path.insert(0, '/home/m.caros/work/objectDetection/utils')\n",
    "from utils_plot import plot_3d_coords"
   ]
  },
  {
   "cell_type": "code",
   "execution_count": 3,
   "id": "55dd7314",
   "metadata": {},
   "outputs": [],
   "source": [
    "from utils_barlow import *"
   ]
  },
  {
   "cell_type": "code",
   "execution_count": 4,
   "id": "5488a511",
   "metadata": {},
   "outputs": [],
   "source": [
    "batch_size = 128\n",
    "num_workers = 20  # to run notebook on CPU\n",
    "max_epochs = 20\n",
    "z_dim=32"
   ]
  },
  {
   "cell_type": "markdown",
   "id": "34246417",
   "metadata": {},
   "source": [
    "## Data"
   ]
  },
  {
   "cell_type": "code",
   "execution_count": 5,
   "id": "4fab97af",
   "metadata": {},
   "outputs": [],
   "source": [
    "dataset_folder = '/dades/LIDAR/towers_detection/datasets/pc_40x40_4096p_v3'\n",
    "n_points = 4096\n",
    "c_sample = False"
   ]
  },
  {
   "cell_type": "code",
   "execution_count": 6,
   "id": "d03742f0",
   "metadata": {},
   "outputs": [],
   "source": [
    "path_list_files='/home/m.caros/work/objectDetection/train_test_files/RGBN_40x40_barlow_p1'\n",
    "\n",
    "# Datasets train / val / test\n",
    "with open(os.path.join(path_list_files, 'train_cls_files.txt'), 'r') as f:\n",
    "    train_files = f.read().splitlines()\n",
    "with open(os.path.join(path_list_files, 'val_cls_files.txt'), 'r') as f:\n",
    "    val_files = f.read().splitlines()\n",
    "with open(os.path.join(path_list_files, 'test_cls_files.txt'), 'r') as f:\n",
    "    test_files = f.read().splitlines()\n",
    "\n",
    "# paths_files = glob.glob('/dades/LIDAR/towers_detection/datasets/pc_40x40_4096p/pylon*')\n",
    "# towers_files = [f.split('/')[-1] for f in paths_files]"
   ]
  },
  {
   "cell_type": "code",
   "execution_count": 7,
   "id": "0cc2e53c",
   "metadata": {},
   "outputs": [],
   "source": [
    "# Initialize datasets\n",
    "train_dataset = BarlowTwinsDataset(dataset_folder=dataset_folder,\n",
    "                             task='classification', \n",
    "                             number_of_points=n_points,\n",
    "                             files=train_files,\n",
    "                             fixed_num_points=True,\n",
    "                             use_ground=True,\n",
    "                             c_sample=c_sample)\n",
    "\n",
    "val_dataset = BarlowTwinsDataset(dataset_folder=dataset_folder,\n",
    "                           task='classification', \n",
    "                           number_of_points=n_points,\n",
    "                           files=val_files,\n",
    "                           fixed_num_points=True,\n",
    "                           use_ground=True,\n",
    "                           c_sample=c_sample)\n",
    "\n",
    "test_dataset = BarlowTwinsDataset(dataset_folder=dataset_folder,\n",
    "                           task='classification', \n",
    "                           number_of_points=n_points,\n",
    "                           files=test_files,\n",
    "                           fixed_num_points=True,\n",
    "                           use_ground=True,\n",
    "                           c_sample=c_sample)"
   ]
  },
  {
   "cell_type": "code",
   "execution_count": 8,
   "id": "c5203e71",
   "metadata": {
    "colab": {
     "referenced_widgets": [
      "9c7080f0c55149c584aca8c54558da86"
     ]
    },
    "execution": {
     "iopub.execute_input": "2023-01-03T14:11:21.892168Z",
     "iopub.status.busy": "2023-01-03T14:11:21.891508Z",
     "iopub.status.idle": "2023-01-03T14:11:30.340106Z",
     "shell.execute_reply": "2023-01-03T14:11:30.339349Z"
    },
    "id": "c5203e71",
    "outputId": "b6b11403-079f-44cf-9304-5332c9e25139",
    "papermill": {
     "duration": 8.468487,
     "end_time": "2023-01-03T14:11:30.342113",
     "exception": false,
     "start_time": "2023-01-03T14:11:21.873626",
     "status": "completed"
    },
    "tags": []
   },
   "outputs": [],
   "source": [
    "\n",
    "train_loader = DataLoader(train_dataset, batch_size=batch_size, shuffle=True, \n",
    "                          num_workers=num_workers, drop_last=True)\n",
    "val_loader = DataLoader(val_dataset, batch_size=batch_size, shuffle=False, \n",
    "                        num_workers=num_workers, drop_last=True)\n",
    "\n",
    "test_loader = DataLoader(test_dataset, batch_size=batch_size, shuffle=False, \n",
    "                        num_workers=0, drop_last=True)\n",
    "\n"
   ]
  },
  {
   "cell_type": "code",
   "execution_count": null,
   "id": "d9179e7b",
   "metadata": {},
   "outputs": [],
   "source": []
  },
  {
   "cell_type": "markdown",
   "id": "dddd3ac6",
   "metadata": {},
   "source": [
    "### Encoder: PointNet classifier"
   ]
  },
  {
   "cell_type": "code",
   "execution_count": 9,
   "id": "2cadedb0",
   "metadata": {},
   "outputs": [],
   "source": [
    "classifier = ClassificationPointNet(num_classes=2,\n",
    "                                   point_dimension=3,\n",
    "                                   dataset=train_dataset,\n",
    "                                   device='cuda')\n",
    "classifier = classifier.cuda()\n",
    "\n",
    "encoder = classifier.base_pointnet\n"
   ]
  },
  {
   "cell_type": "markdown",
   "id": "2678a0ef",
   "metadata": {},
   "source": [
    "### Instantiate Barlow Twins model"
   ]
  },
  {
   "cell_type": "code",
   "execution_count": 10,
   "id": "7580de0e",
   "metadata": {},
   "outputs": [],
   "source": [
    "encoder_out_dim=1024\n",
    "\n",
    "ckpt_model = BarlowTwins(\n",
    "    encoder=encoder,\n",
    "    encoder_out_dim=encoder_out_dim,\n",
    "    num_training_samples=len(train_dataset),\n",
    "    batch_size=batch_size,\n",
    "    z_dim=z_dim,\n",
    ")"
   ]
  },
  {
   "cell_type": "code",
   "execution_count": 11,
   "id": "9829cfd3",
   "metadata": {},
   "outputs": [],
   "source": [
    "online_finetuner = OnlineFineTuner(encoder_output_dim=encoder_out_dim, num_classes=2)\n"
   ]
  },
  {
   "cell_type": "markdown",
   "id": "0b409c64",
   "metadata": {},
   "source": [
    "### Load Barlow Twins trained model"
   ]
  },
  {
   "cell_type": "code",
   "execution_count": 12,
   "id": "89d3194a",
   "metadata": {},
   "outputs": [],
   "source": [
    "ckpt_dict = torch.load('checkpoints_cls/epoch=16-step=6987.ckpt') \n",
    "ckpt_model.load_state_dict(ckpt_dict['state_dict'])\n",
    "# encoder = ckpt_model.encoder\n",
    "encoder = ckpt_model\n",
    "\n",
    "# for batch in train_loader:\n",
    "#     pc, pc_noise, labels = batch\n",
    "#     gl_feat, _ = encoder(pc.cuda())\n",
    "#     print(gl_feat.shape)\n",
    "#     break"
   ]
  },
  {
   "cell_type": "code",
   "execution_count": 13,
   "id": "b650c169",
   "metadata": {},
   "outputs": [],
   "source": [
    "#gl_feat[0]"
   ]
  },
  {
   "cell_type": "code",
   "execution_count": 14,
   "id": "34fb744b",
   "metadata": {},
   "outputs": [],
   "source": [
    "# Z\n",
    "# for batch in train_loader:\n",
    "#     pc, pc_noise, labels = batch\n",
    "#     z = ckpt_model(pc.cuda())\n",
    "#     print(z.shape)\n",
    "#     break"
   ]
  },
  {
   "cell_type": "code",
   "execution_count": 15,
   "id": "7602104a",
   "metadata": {},
   "outputs": [],
   "source": [
    "cls = Classifier(num_classes=2,\n",
    "                 encoder=encoder,\n",
    "                 num_training_samples=len(train_dataset),\n",
    "                 batch_size=batch_size,\n",
    "                 max_epochs=max_epochs,\n",
    "                 learning_rate=0.001, \n",
    "                 dropout=0.3).cuda()\n"
   ]
  },
  {
   "cell_type": "code",
   "execution_count": 16,
   "id": "eddbed35",
   "metadata": {},
   "outputs": [
    {
     "name": "stderr",
     "output_type": "stream",
     "text": [
      "GPU available: True (cuda), used: True\n",
      "TPU available: False, using: 0 TPU cores\n",
      "IPU available: False, using: 0 IPUs\n",
      "HPU available: False, using: 0 HPUs\n"
     ]
    }
   ],
   "source": [
    "checkpoint_callback = ModelCheckpoint( save_top_k=10, dirpath='checkpoints_tower_cls', monitor='barlow_cls_val_loss')\n",
    "\n",
    "trainer = Trainer(\n",
    "    max_epochs=max_epochs,\n",
    "    accelerator=\"auto\",\n",
    "    devices=1 if torch.cuda.is_available() else None,  # limiting got iPython runs\n",
    "    callbacks=[checkpoint_callback]\n",
    ")"
   ]
  },
  {
   "cell_type": "code",
   "execution_count": 17,
   "id": "674d98ff",
   "metadata": {},
   "outputs": [],
   "source": [
    "torch.set_float32_matmul_precision('medium')"
   ]
  },
  {
   "cell_type": "code",
   "execution_count": 18,
   "id": "6995418d",
   "metadata": {
    "scrolled": false
   },
   "outputs": [
    {
     "name": "stderr",
     "output_type": "stream",
     "text": [
      "/home/m.caros/anaconda3/envs/pytorch37/lib/python3.7/site-packages/pytorch_lightning/callbacks/model_checkpoint.py:613: UserWarning: Checkpoint directory /home/m.caros/work/objectDetection/src/barlow_twins/checkpoints_tower_cls exists and is not empty.\n",
      "  rank_zero_warn(f\"Checkpoint directory {dirpath} exists and is not empty.\")\n",
      "LOCAL_RANK: 0 - CUDA_VISIBLE_DEVICES: [0]\n",
      "\n",
      "  | Name      | Type        | Params\n",
      "------------------------------------------\n",
      "0 | encoder   | BarlowTwins | 3.4 M \n",
      "1 | loss_fn   | NLLLoss     | 0     \n",
      "2 | fc_1      | Linear      | 524 K \n",
      "3 | fc_2      | Linear      | 131 K \n",
      "4 | fc_3      | Linear      | 514   \n",
      "5 | bn_1      | BatchNorm1d | 1.0 K \n",
      "6 | bn_2      | BatchNorm1d | 512   \n",
      "7 | dropout_1 | Dropout     | 0     \n",
      "------------------------------------------\n",
      "4.0 M     Trainable params\n",
      "0         Non-trainable params\n",
      "4.0 M     Total params\n",
      "16.045    Total estimated model params size (MB)\n"
     ]
    },
    {
     "data": {
      "application/vnd.jupyter.widget-view+json": {
       "model_id": "",
       "version_major": 2,
       "version_minor": 0
      },
      "text/plain": [
       "Sanity Checking: 0it [00:00, ?it/s]"
      ]
     },
     "metadata": {},
     "output_type": "display_data"
    },
    {
     "data": {
      "application/vnd.jupyter.widget-view+json": {
       "model_id": "bd42f307380a40b49a54e510e1df925d",
       "version_major": 2,
       "version_minor": 0
      },
      "text/plain": [
       "Training: 0it [00:00, ?it/s]"
      ]
     },
     "metadata": {},
     "output_type": "display_data"
    },
    {
     "data": {
      "application/vnd.jupyter.widget-view+json": {
       "model_id": "",
       "version_major": 2,
       "version_minor": 0
      },
      "text/plain": [
       "Validation: 0it [00:00, ?it/s]"
      ]
     },
     "metadata": {},
     "output_type": "display_data"
    },
    {
     "data": {
      "application/vnd.jupyter.widget-view+json": {
       "model_id": "",
       "version_major": 2,
       "version_minor": 0
      },
      "text/plain": [
       "Validation: 0it [00:00, ?it/s]"
      ]
     },
     "metadata": {},
     "output_type": "display_data"
    },
    {
     "data": {
      "application/vnd.jupyter.widget-view+json": {
       "model_id": "",
       "version_major": 2,
       "version_minor": 0
      },
      "text/plain": [
       "Validation: 0it [00:00, ?it/s]"
      ]
     },
     "metadata": {},
     "output_type": "display_data"
    },
    {
     "data": {
      "application/vnd.jupyter.widget-view+json": {
       "model_id": "",
       "version_major": 2,
       "version_minor": 0
      },
      "text/plain": [
       "Validation: 0it [00:00, ?it/s]"
      ]
     },
     "metadata": {},
     "output_type": "display_data"
    },
    {
     "data": {
      "application/vnd.jupyter.widget-view+json": {
       "model_id": "",
       "version_major": 2,
       "version_minor": 0
      },
      "text/plain": [
       "Validation: 0it [00:00, ?it/s]"
      ]
     },
     "metadata": {},
     "output_type": "display_data"
    },
    {
     "data": {
      "application/vnd.jupyter.widget-view+json": {
       "model_id": "",
       "version_major": 2,
       "version_minor": 0
      },
      "text/plain": [
       "Validation: 0it [00:00, ?it/s]"
      ]
     },
     "metadata": {},
     "output_type": "display_data"
    },
    {
     "data": {
      "application/vnd.jupyter.widget-view+json": {
       "model_id": "",
       "version_major": 2,
       "version_minor": 0
      },
      "text/plain": [
       "Validation: 0it [00:00, ?it/s]"
      ]
     },
     "metadata": {},
     "output_type": "display_data"
    },
    {
     "data": {
      "application/vnd.jupyter.widget-view+json": {
       "model_id": "",
       "version_major": 2,
       "version_minor": 0
      },
      "text/plain": [
       "Validation: 0it [00:00, ?it/s]"
      ]
     },
     "metadata": {},
     "output_type": "display_data"
    },
    {
     "data": {
      "application/vnd.jupyter.widget-view+json": {
       "model_id": "",
       "version_major": 2,
       "version_minor": 0
      },
      "text/plain": [
       "Validation: 0it [00:00, ?it/s]"
      ]
     },
     "metadata": {},
     "output_type": "display_data"
    },
    {
     "data": {
      "application/vnd.jupyter.widget-view+json": {
       "model_id": "",
       "version_major": 2,
       "version_minor": 0
      },
      "text/plain": [
       "Validation: 0it [00:00, ?it/s]"
      ]
     },
     "metadata": {},
     "output_type": "display_data"
    },
    {
     "data": {
      "application/vnd.jupyter.widget-view+json": {
       "model_id": "",
       "version_major": 2,
       "version_minor": 0
      },
      "text/plain": [
       "Validation: 0it [00:00, ?it/s]"
      ]
     },
     "metadata": {},
     "output_type": "display_data"
    },
    {
     "data": {
      "application/vnd.jupyter.widget-view+json": {
       "model_id": "",
       "version_major": 2,
       "version_minor": 0
      },
      "text/plain": [
       "Validation: 0it [00:00, ?it/s]"
      ]
     },
     "metadata": {},
     "output_type": "display_data"
    },
    {
     "data": {
      "application/vnd.jupyter.widget-view+json": {
       "model_id": "",
       "version_major": 2,
       "version_minor": 0
      },
      "text/plain": [
       "Validation: 0it [00:00, ?it/s]"
      ]
     },
     "metadata": {},
     "output_type": "display_data"
    },
    {
     "data": {
      "application/vnd.jupyter.widget-view+json": {
       "model_id": "",
       "version_major": 2,
       "version_minor": 0
      },
      "text/plain": [
       "Validation: 0it [00:00, ?it/s]"
      ]
     },
     "metadata": {},
     "output_type": "display_data"
    },
    {
     "data": {
      "application/vnd.jupyter.widget-view+json": {
       "model_id": "",
       "version_major": 2,
       "version_minor": 0
      },
      "text/plain": [
       "Validation: 0it [00:00, ?it/s]"
      ]
     },
     "metadata": {},
     "output_type": "display_data"
    },
    {
     "data": {
      "application/vnd.jupyter.widget-view+json": {
       "model_id": "",
       "version_major": 2,
       "version_minor": 0
      },
      "text/plain": [
       "Validation: 0it [00:00, ?it/s]"
      ]
     },
     "metadata": {},
     "output_type": "display_data"
    },
    {
     "data": {
      "application/vnd.jupyter.widget-view+json": {
       "model_id": "",
       "version_major": 2,
       "version_minor": 0
      },
      "text/plain": [
       "Validation: 0it [00:00, ?it/s]"
      ]
     },
     "metadata": {},
     "output_type": "display_data"
    },
    {
     "data": {
      "application/vnd.jupyter.widget-view+json": {
       "model_id": "",
       "version_major": 2,
       "version_minor": 0
      },
      "text/plain": [
       "Validation: 0it [00:00, ?it/s]"
      ]
     },
     "metadata": {},
     "output_type": "display_data"
    },
    {
     "data": {
      "application/vnd.jupyter.widget-view+json": {
       "model_id": "",
       "version_major": 2,
       "version_minor": 0
      },
      "text/plain": [
       "Validation: 0it [00:00, ?it/s]"
      ]
     },
     "metadata": {},
     "output_type": "display_data"
    },
    {
     "name": "stderr",
     "output_type": "stream",
     "text": [
      "/home/m.caros/anaconda3/envs/pytorch37/lib/python3.7/site-packages/pytorch_lightning/trainer/call.py:48: UserWarning: Detected KeyboardInterrupt, attempting graceful shutdown...\n",
      "  rank_zero_warn(\"Detected KeyboardInterrupt, attempting graceful shutdown...\")\n"
     ]
    }
   ],
   "source": [
    "trainer.fit(cls, train_loader, val_loader)"
   ]
  },
  {
   "cell_type": "markdown",
   "id": "5a6fb9ef",
   "metadata": {},
   "source": [
    "## Test Classifier with Barlow Twins vector"
   ]
  },
  {
   "cell_type": "code",
   "execution_count": 19,
   "id": "f40c154f",
   "metadata": {},
   "outputs": [],
   "source": [
    "# ckpt_dict = torch.load('checkpoints_tower_cls/epoch=53-step=92232.ckpt')  # upload checkpoint to aws\n",
    "# cls.load_state_dict(ckpt_dict['state_dict'])\n"
   ]
  },
  {
   "cell_type": "code",
   "execution_count": null,
   "id": "a5a96d93",
   "metadata": {},
   "outputs": [],
   "source": []
  },
  {
   "cell_type": "code",
   "execution_count": null,
   "id": "25cca8b3",
   "metadata": {},
   "outputs": [],
   "source": []
  },
  {
   "cell_type": "code",
   "execution_count": null,
   "id": "adb75e03",
   "metadata": {},
   "outputs": [],
   "source": []
  }
 ],
 "metadata": {
  "kernelspec": {
   "display_name": "Python 3 (ipykernel)",
   "language": "python",
   "name": "python3"
  },
  "language_info": {
   "codemirror_mode": {
    "name": "ipython",
    "version": 3
   },
   "file_extension": ".py",
   "mimetype": "text/x-python",
   "name": "python",
   "nbconvert_exporter": "python",
   "pygments_lexer": "ipython3",
   "version": "3.7.11"
  }
 },
 "nbformat": 4,
 "nbformat_minor": 5
}
